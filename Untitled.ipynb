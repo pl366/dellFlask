{
 "cells": [
  {
   "cell_type": "code",
   "execution_count": 1,
   "metadata": {},
   "outputs": [
    {
     "name": "stderr",
     "output_type": "stream",
     "text": [
      "/home/pulkit/.local/lib/python2.7/site-packages/sklearn/cross_validation.py:41: DeprecationWarning: This module was deprecated in version 0.18 in favor of the model_selection module into which all the refactored classes and functions are moved. Also note that the interface of the new CV iterators are different from that of this module. This module will be removed in 0.20.\n",
      "  \"This module will be removed in 0.20.\", DeprecationWarning)\n",
      "/home/pulkit/.local/lib/python2.7/site-packages/sklearn/ensemble/weight_boosting.py:29: DeprecationWarning: numpy.core.umath_tests is an internal NumPy module and should not be imported. It will be removed in a future NumPy release.\n",
      "  from numpy.core.umath_tests import inner1d\n"
     ]
    }
   ],
   "source": [
    "import numpy as np\n",
    "import pandas as pd\n",
    "from sklearn.cross_validation import train_test_split\n",
    "from sklearn import ensemble\n",
    "from sklearn.externals import joblib"
   ]
  },
  {
   "cell_type": "code",
   "execution_count": 2,
   "metadata": {},
   "outputs": [
    {
     "data": {
      "text/html": [
       "<div>\n",
       "<style scoped>\n",
       "    .dataframe tbody tr th:only-of-type {\n",
       "        vertical-align: middle;\n",
       "    }\n",
       "\n",
       "    .dataframe tbody tr th {\n",
       "        vertical-align: top;\n",
       "    }\n",
       "\n",
       "    .dataframe thead th {\n",
       "        text-align: right;\n",
       "    }\n",
       "</style>\n",
       "<table border=\"1\" class=\"dataframe\">\n",
       "  <thead>\n",
       "    <tr style=\"text-align: right;\">\n",
       "      <th></th>\n",
       "      <th>Q1</th>\n",
       "      <th>Q2</th>\n",
       "      <th>Q3</th>\n",
       "      <th>Q4</th>\n",
       "      <th>Q5</th>\n",
       "      <th>Comment Analysis</th>\n",
       "      <th>Final Survey Sentiment</th>\n",
       "    </tr>\n",
       "  </thead>\n",
       "  <tbody>\n",
       "    <tr>\n",
       "      <th>95</th>\n",
       "      <td>3</td>\n",
       "      <td>5</td>\n",
       "      <td>1</td>\n",
       "      <td>1</td>\n",
       "      <td>4</td>\n",
       "      <td>2.43</td>\n",
       "      <td>NaN</td>\n",
       "    </tr>\n",
       "    <tr>\n",
       "      <th>96</th>\n",
       "      <td>1</td>\n",
       "      <td>4</td>\n",
       "      <td>4</td>\n",
       "      <td>1</td>\n",
       "      <td>3</td>\n",
       "      <td>1.80</td>\n",
       "      <td>NaN</td>\n",
       "    </tr>\n",
       "    <tr>\n",
       "      <th>97</th>\n",
       "      <td>3</td>\n",
       "      <td>1</td>\n",
       "      <td>2</td>\n",
       "      <td>2</td>\n",
       "      <td>1</td>\n",
       "      <td>2.27</td>\n",
       "      <td>NaN</td>\n",
       "    </tr>\n",
       "    <tr>\n",
       "      <th>98</th>\n",
       "      <td>1</td>\n",
       "      <td>5</td>\n",
       "      <td>3</td>\n",
       "      <td>2</td>\n",
       "      <td>2</td>\n",
       "      <td>0.90</td>\n",
       "      <td>NaN</td>\n",
       "    </tr>\n",
       "    <tr>\n",
       "      <th>99</th>\n",
       "      <td>3</td>\n",
       "      <td>1</td>\n",
       "      <td>4</td>\n",
       "      <td>2</td>\n",
       "      <td>5</td>\n",
       "      <td>0.70</td>\n",
       "      <td>NaN</td>\n",
       "    </tr>\n",
       "  </tbody>\n",
       "</table>\n",
       "</div>"
      ],
      "text/plain": [
       "    Q1  Q2  Q3  Q4  Q5  Comment Analysis  Final Survey Sentiment \n",
       "95   3   5   1   1   4              2.43                      NaN\n",
       "96   1   4   4   1   3              1.80                      NaN\n",
       "97   3   1   2   2   1              2.27                      NaN\n",
       "98   1   5   3   2   2              0.90                      NaN\n",
       "99   3   1   4   2   5              0.70                      NaN"
      ]
     },
     "execution_count": 2,
     "metadata": {},
     "output_type": "execute_result"
    }
   ],
   "source": [
    "data = pd.read_csv(\"Complaint_survey_data.csv\")\n",
    "data.tail(5)"
   ]
  },
  {
   "cell_type": "code",
   "execution_count": 7,
   "metadata": {},
   "outputs": [],
   "source": [
    "train = data[data.columns[0:6]][0:69]\n",
    "# target = data['Final Survey Sentiment'][0:70]"
   ]
  },
  {
   "cell_type": "code",
   "execution_count": 8,
   "metadata": {},
   "outputs": [
    {
     "data": {
      "text/html": [
       "<div>\n",
       "<style scoped>\n",
       "    .dataframe tbody tr th:only-of-type {\n",
       "        vertical-align: middle;\n",
       "    }\n",
       "\n",
       "    .dataframe tbody tr th {\n",
       "        vertical-align: top;\n",
       "    }\n",
       "\n",
       "    .dataframe thead th {\n",
       "        text-align: right;\n",
       "    }\n",
       "</style>\n",
       "<table border=\"1\" class=\"dataframe\">\n",
       "  <thead>\n",
       "    <tr style=\"text-align: right;\">\n",
       "      <th></th>\n",
       "      <th>Q1</th>\n",
       "      <th>Q2</th>\n",
       "      <th>Q3</th>\n",
       "      <th>Q4</th>\n",
       "      <th>Q5</th>\n",
       "      <th>Comment Analysis</th>\n",
       "    </tr>\n",
       "  </thead>\n",
       "  <tbody>\n",
       "    <tr>\n",
       "      <th>66</th>\n",
       "      <td>5</td>\n",
       "      <td>1</td>\n",
       "      <td>5</td>\n",
       "      <td>4</td>\n",
       "      <td>3</td>\n",
       "      <td>2.27</td>\n",
       "    </tr>\n",
       "    <tr>\n",
       "      <th>67</th>\n",
       "      <td>4</td>\n",
       "      <td>4</td>\n",
       "      <td>5</td>\n",
       "      <td>2</td>\n",
       "      <td>2</td>\n",
       "      <td>2.91</td>\n",
       "    </tr>\n",
       "    <tr>\n",
       "      <th>68</th>\n",
       "      <td>2</td>\n",
       "      <td>3</td>\n",
       "      <td>4</td>\n",
       "      <td>1</td>\n",
       "      <td>5</td>\n",
       "      <td>2.38</td>\n",
       "    </tr>\n",
       "    <tr>\n",
       "      <th>69</th>\n",
       "      <td>5</td>\n",
       "      <td>4</td>\n",
       "      <td>1</td>\n",
       "      <td>1</td>\n",
       "      <td>4</td>\n",
       "      <td>0.92</td>\n",
       "    </tr>\n",
       "    <tr>\n",
       "      <th>70</th>\n",
       "      <td>1</td>\n",
       "      <td>3</td>\n",
       "      <td>5</td>\n",
       "      <td>1</td>\n",
       "      <td>5</td>\n",
       "      <td>2.65</td>\n",
       "    </tr>\n",
       "  </tbody>\n",
       "</table>\n",
       "</div>"
      ],
      "text/plain": [
       "    Q1  Q2  Q3  Q4  Q5  Comment Analysis\n",
       "66   5   1   5   4   3              2.27\n",
       "67   4   4   5   2   2              2.91\n",
       "68   2   3   4   1   5              2.38\n",
       "69   5   4   1   1   4              0.92\n",
       "70   1   3   5   1   5              2.65"
      ]
     },
     "execution_count": 8,
     "metadata": {},
     "output_type": "execute_result"
    }
   ],
   "source": [
    "train.tail(5)"
   ]
  },
  {
   "cell_type": "code",
   "execution_count": 14,
   "metadata": {},
   "outputs": [],
   "source": [
    "target = data['Final Survey Sentiment '][0:69]"
   ]
  },
  {
   "cell_type": "code",
   "execution_count": 13,
   "metadata": {},
   "outputs": [
    {
     "data": {
      "text/plain": [
       "0    2.3\n",
       "1    4.5\n",
       "2    4.0\n",
       "3    3.1\n",
       "4    3.2\n",
       "Name: Final Survey Sentiment , dtype: float64"
      ]
     },
     "execution_count": 13,
     "metadata": {},
     "output_type": "execute_result"
    }
   ],
   "source": [
    "target.head(5)"
   ]
  },
  {
   "cell_type": "code",
   "execution_count": 15,
   "metadata": {},
   "outputs": [],
   "source": [
    "from sklearn.externals import joblib\n",
    "clf = joblib.load('trained2.pkl') "
   ]
  },
  {
   "cell_type": "code",
   "execution_count": 24,
   "metadata": {},
   "outputs": [
    {
     "name": "stdout",
     "output_type": "stream",
     "text": [
      "    Q1  Q2  Q3  Q4  Q5  Comment Analysis\n",
      "69   5   4   1   1   4              0.92\n",
      "70   1   3   5   1   5              2.65\n",
      "71   5   1   2   3   2              1.45\n",
      "72   4   2   2   1   1              1.36\n",
      "73   2   5   3   3   4              2.18\n",
      "74   3   5   5   5   1              3.00\n",
      "75   4   2   4   4   2              2.12\n",
      "76   3   1   5   2   1              1.43\n",
      "77   3   4   5   5   4              2.73\n",
      "78   1   5   2   5   5              1.51\n",
      "79   3   5   2   2   1              2.22\n",
      "80   1   4   5   2   5              3.22\n",
      "81   4   1   4   2   3              2.78\n",
      "82   1   4   1   3   4              3.05\n",
      "83   2   5   3   2   5              2.53\n",
      "84   3   2   3   5   5              2.64\n",
      "85   4   4   5   5   3              2.93\n",
      "86   5   3   4   4   2              0.86\n",
      "87   1   1   5   5   3              1.93\n",
      "88   4   4   4   1   2              3.17\n",
      "89   3   1   1   1   2              1.61\n",
      "90   4   4   5   5   3              2.00\n",
      "91   5   5   5   5   3              1.07\n",
      "92   5   2   2   2   5              2.92\n",
      "93   5   3   4   5   5              2.16\n",
      "94   4   5   5   5   4              2.40\n",
      "95   3   5   1   1   4              2.43\n",
      "96   1   4   4   1   3              1.80\n",
      "97   3   1   2   2   1              2.27\n",
      "98   1   5   3   2   2              0.90\n",
      "99   3   1   4   2   5              0.70\n"
     ]
    }
   ],
   "source": [
    "predicted_array = data[data.columns[0:6]][69:]\n",
    "print ((predicted_array))"
   ]
  },
  {
   "cell_type": "code",
   "execution_count": 28,
   "metadata": {},
   "outputs": [
    {
     "name": "stderr",
     "output_type": "stream",
     "text": [
      "/home/pulkit/.local/lib/python2.7/site-packages/ipykernel_launcher.py:1: FutureWarning: Method .as_matrix will be removed in a future version. Use .values instead.\n",
      "  \"\"\"Entry point for launching an IPython kernel.\n"
     ]
    },
    {
     "data": {
      "text/plain": [
       "array([[5.  , 4.  , 1.  , 1.  , 4.  , 0.92],\n",
       "       [1.  , 3.  , 5.  , 1.  , 5.  , 2.65],\n",
       "       [5.  , 1.  , 2.  , 3.  , 2.  , 1.45],\n",
       "       [4.  , 2.  , 2.  , 1.  , 1.  , 1.36],\n",
       "       [2.  , 5.  , 3.  , 3.  , 4.  , 2.18],\n",
       "       [3.  , 5.  , 5.  , 5.  , 1.  , 3.  ],\n",
       "       [4.  , 2.  , 4.  , 4.  , 2.  , 2.12],\n",
       "       [3.  , 1.  , 5.  , 2.  , 1.  , 1.43],\n",
       "       [3.  , 4.  , 5.  , 5.  , 4.  , 2.73],\n",
       "       [1.  , 5.  , 2.  , 5.  , 5.  , 1.51],\n",
       "       [3.  , 5.  , 2.  , 2.  , 1.  , 2.22],\n",
       "       [1.  , 4.  , 5.  , 2.  , 5.  , 3.22],\n",
       "       [4.  , 1.  , 4.  , 2.  , 3.  , 2.78],\n",
       "       [1.  , 4.  , 1.  , 3.  , 4.  , 3.05],\n",
       "       [2.  , 5.  , 3.  , 2.  , 5.  , 2.53],\n",
       "       [3.  , 2.  , 3.  , 5.  , 5.  , 2.64],\n",
       "       [4.  , 4.  , 5.  , 5.  , 3.  , 2.93],\n",
       "       [5.  , 3.  , 4.  , 4.  , 2.  , 0.86],\n",
       "       [1.  , 1.  , 5.  , 5.  , 3.  , 1.93],\n",
       "       [4.  , 4.  , 4.  , 1.  , 2.  , 3.17],\n",
       "       [3.  , 1.  , 1.  , 1.  , 2.  , 1.61],\n",
       "       [4.  , 4.  , 5.  , 5.  , 3.  , 2.  ],\n",
       "       [5.  , 5.  , 5.  , 5.  , 3.  , 1.07],\n",
       "       [5.  , 2.  , 2.  , 2.  , 5.  , 2.92],\n",
       "       [5.  , 3.  , 4.  , 5.  , 5.  , 2.16],\n",
       "       [4.  , 5.  , 5.  , 5.  , 4.  , 2.4 ],\n",
       "       [3.  , 5.  , 1.  , 1.  , 4.  , 2.43],\n",
       "       [1.  , 4.  , 4.  , 1.  , 3.  , 1.8 ],\n",
       "       [3.  , 1.  , 2.  , 2.  , 1.  , 2.27],\n",
       "       [1.  , 5.  , 3.  , 2.  , 2.  , 0.9 ],\n",
       "       [3.  , 1.  , 4.  , 2.  , 5.  , 0.7 ]])"
      ]
     },
     "execution_count": 28,
     "metadata": {},
     "output_type": "execute_result"
    }
   ],
   "source": [
    "(predicted_array).as_matrix()"
   ]
  },
  {
   "cell_type": "code",
   "execution_count": 30,
   "metadata": {},
   "outputs": [
    {
     "name": "stderr",
     "output_type": "stream",
     "text": [
      "/home/pulkit/.local/lib/python2.7/site-packages/ipykernel_launcher.py:1: FutureWarning: Method .as_matrix will be removed in a future version. Use .values instead.\n",
      "  \"\"\"Entry point for launching an IPython kernel.\n"
     ]
    },
    {
     "ename": "AttributeError",
     "evalue": "'numpy.ndarray' object has no attribute 'to_csv'",
     "output_type": "error",
     "traceback": [
      "\u001b[0;31m---------------------------------------------------------------------------\u001b[0m",
      "\u001b[0;31mAttributeError\u001b[0m                            Traceback (most recent call last)",
      "\u001b[0;32m<ipython-input-30-72240c07bd2f>\u001b[0m in \u001b[0;36m<module>\u001b[0;34m()\u001b[0m\n\u001b[0;32m----> 1\u001b[0;31m \u001b[0mclf\u001b[0m\u001b[0;34m.\u001b[0m\u001b[0mpredict\u001b[0m\u001b[0;34m(\u001b[0m\u001b[0;34m(\u001b[0m\u001b[0mpredicted_array\u001b[0m\u001b[0;34m)\u001b[0m\u001b[0;34m.\u001b[0m\u001b[0mas_matrix\u001b[0m\u001b[0;34m(\u001b[0m\u001b[0;34m)\u001b[0m\u001b[0;34m)\u001b[0m\u001b[0;34m.\u001b[0m\u001b[0mto_csv\u001b[0m\u001b[0;34m(\u001b[0m\u001b[0;34m'predicted.csv'\u001b[0m\u001b[0;34m)\u001b[0m\u001b[0;34m\u001b[0m\u001b[0m\n\u001b[0m",
      "\u001b[0;31mAttributeError\u001b[0m: 'numpy.ndarray' object has no attribute 'to_csv'"
     ]
    }
   ],
   "source": [
    "clf.predict((predicted_array).as_matrix()).to_csv('predicted.csv')"
   ]
  },
  {
   "cell_type": "code",
   "execution_count": 32,
   "metadata": {},
   "outputs": [
    {
     "name": "stderr",
     "output_type": "stream",
     "text": [
      "/home/pulkit/.local/lib/python2.7/site-packages/ipykernel_launcher.py:1: FutureWarning: Method .as_matrix will be removed in a future version. Use .values instead.\n",
      "  \"\"\"Entry point for launching an IPython kernel.\n"
     ]
    }
   ],
   "source": [
    "s = pd.Series(clf.predict((predicted_array).as_matrix())).to_csv('predicted.csv')"
   ]
  },
  {
   "cell_type": "code",
   "execution_count": null,
   "metadata": {},
   "outputs": [],
   "source": []
  }
 ],
 "metadata": {
  "kernelspec": {
   "display_name": "Python 2",
   "language": "python",
   "name": "python2"
  },
  "language_info": {
   "codemirror_mode": {
    "name": "ipython",
    "version": 2
   },
   "file_extension": ".py",
   "mimetype": "text/x-python",
   "name": "python",
   "nbconvert_exporter": "python",
   "pygments_lexer": "ipython2",
   "version": "2.7.14"
  }
 },
 "nbformat": 4,
 "nbformat_minor": 2
}
